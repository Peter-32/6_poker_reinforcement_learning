{
 "cells": [
  {
   "cell_type": "code",
   "execution_count": 8,
   "metadata": {},
   "outputs": [],
   "source": [
    "import random\n",
    "# Redo hand if three people enter the flop.\n",
    "\n",
    "# Opponents = 9 max and 100 man tournament; 10 paid:\n",
    "    # 30, 20, 12, 9.5, 8, 6, 5, 4, 3, 2.5 is the payout\n",
    "\n",
    "# ICM calculated by % of chip pool you have looking for first place chances.  \n",
    "    # Then the ICM is calculated by assuming you do not win first; do the same with the remaining players.  \n",
    "    # Assuming other combinations got first.\n",
    "    \n",
    "# ICM isn't calculated in small blind sizes until there are 12 opponents left\n",
    "    # Therefore this program will ignore ICM completely.\n",
    "    \n",
    "def get_randomized_opponents():\n",
    "    opponents = []\n",
    "    for i in range(8):\n",
    "        randomized_opponent = get_randomized_opponent()\n",
    "        opponents.append(randomized_opponent)\n",
    "    return opponents\n",
    "\n",
    "def get_randomized_opponent():\n",
    "    strategy = []\n",
    "    choices = [3, 6, 8, 9, 10, 11, 12, 13, 15, 16, 17, 18, 19, 20]\n",
    "    length_of_strategy = 40\n",
    "    for i in range(length_of_strategy):\n",
    "        strategy.append(random.choices(choices)[0])\n",
    "    return strategy\n",
    "\n",
    "def get_average_profit_from_playing_hands(hands):\n",
    "    profit = 0\n",
    "    for i in range(hands):        \n",
    "        profit_from_playing_hand = get_profit_from_playing_hand()\n",
    "        profit += profit_from_playing_hand\n",
    "    avg_profit = profit / hands\n",
    "    return avg_profit\n",
    "\n",
    "def get_profit_from_playing_hand():\n",
    "    hands, deck, my_winnings = play_preflop()\n",
    "    hands, deck, my_winnings, board = play_flop(hands, deck)\n",
    "    hands, deck, my_winnings, board = play_turn(hands, deck)\n",
    "    my_winnings = play_river(hands, deck)\n",
    "    \n",
    "    \n",
    "    \n",
    "    \n",
    "\n",
    "\n",
    "\n",
    "def get_randomized_9_hands():\n",
    "    pass    \n",
    "\n",
    "def play_preflop():\n",
    "    hands, deck = get_randomized_9_hands()\n",
    "\n",
    "def play_flop(hands, deck):\n",
    "    flop, deck = get_randomized_new_cards(deck=deck, number_of_cards=3)\n",
    "    return hands, deck, my_winnings, board\n",
    "\n",
    "def play_turn(hands, deck):\n",
    "    turn, deck = get_randomized_new_cards(deck=deck, number_of_cards=1)\n",
    "    return hands, deck, my_winnings, board\n",
    "\n",
    "def play_river(hands, deck):\n",
    "    river, deck = get_randomized_new_cards(deck=deck, number_of_cards=1)\n",
    "    return my_winnings\n",
    "    \n",
    "\n",
    "\n",
    "def get_randomized_new_cards():\n",
    "    pass\n",
    "\n",
    "\n"
   ]
  },
  {
   "cell_type": "code",
   "execution_count": 13,
   "metadata": {},
   "outputs": [
    {
     "ename": "NameError",
     "evalue": "name 'get_icm_change' is not defined",
     "output_type": "error",
     "traceback": [
      "\u001b[0;31m---------------------------------------------------------------------------\u001b[0m",
      "\u001b[0;31mNameError\u001b[0m                                 Traceback (most recent call last)",
      "\u001b[0;32m<ipython-input-13-6fef06ea1c18>\u001b[0m in \u001b[0;36m<module>\u001b[0;34m\u001b[0m\n\u001b[1;32m      1\u001b[0m \u001b[0mversion_0_opponents\u001b[0m \u001b[0;34m=\u001b[0m \u001b[0mget_randomized_opponents\u001b[0m\u001b[0;34m(\u001b[0m\u001b[0;34m)\u001b[0m\u001b[0;34m\u001b[0m\u001b[0;34m\u001b[0m\u001b[0m\n\u001b[1;32m      2\u001b[0m \u001b[0;34m\u001b[0m\u001b[0m\n\u001b[0;32m----> 3\u001b[0;31m \u001b[0micm_change\u001b[0m \u001b[0;34m=\u001b[0m \u001b[0mget_icm_change\u001b[0m\u001b[0;34m(\u001b[0m\u001b[0mmy_new_stack_size\u001b[0m\u001b[0;34m)\u001b[0m\u001b[0;34m\u001b[0m\u001b[0;34m\u001b[0m\u001b[0m\n\u001b[0m\u001b[1;32m      4\u001b[0m \u001b[0;34m\u001b[0m\u001b[0m\n",
      "\u001b[0;31mNameError\u001b[0m: name 'get_icm_change' is not defined"
     ]
    }
   ],
   "source": [
    "version_0_opponents = get_randomized_opponents()\n",
    "avg_profit = get_average_profit_from_playing_hands(hands=100)\n",
    "\n"
   ]
  },
  {
   "cell_type": "code",
   "execution_count": null,
   "metadata": {},
   "outputs": [],
   "source": []
  }
 ],
 "metadata": {
  "kernelspec": {
   "display_name": "commons3",
   "language": "python",
   "name": "commons3"
  },
  "language_info": {
   "codemirror_mode": {
    "name": "ipython",
    "version": 3
   },
   "file_extension": ".py",
   "mimetype": "text/x-python",
   "name": "python",
   "nbconvert_exporter": "python",
   "pygments_lexer": "ipython3",
   "version": "3.8.5"
  },
  "toc": {
   "base_numbering": 1,
   "nav_menu": {},
   "number_sections": true,
   "sideBar": true,
   "skip_h1_title": false,
   "title_cell": "Table of Contents",
   "title_sidebar": "Contents",
   "toc_cell": false,
   "toc_position": {},
   "toc_section_display": true,
   "toc_window_display": false
  }
 },
 "nbformat": 4,
 "nbformat_minor": 4
}
