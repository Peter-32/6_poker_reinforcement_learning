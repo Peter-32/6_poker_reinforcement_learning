{
 "cells": [
  {
   "cell_type": "code",
   "execution_count": 1,
   "metadata": {},
   "outputs": [],
   "source": [
    "%load_ext autoreload\n",
    "%autoreload 2\n",
    "import sys\n",
    "sys.path.append('~/Documents/projects/6_poker_reinforcement_learning/functions')"
   ]
  },
  {
   "cell_type": "code",
   "execution_count": 8,
   "metadata": {},
   "outputs": [],
   "source": [
    "from functions.preflop import *\n",
    "from functions.shuffle_and_deal import *\n",
    "from functions.identify_hand import *\n",
    "from functions.initialize_strategy import *\n",
    "from functions.postflop import *"
   ]
  },
  {
   "cell_type": "code",
   "execution_count": 5,
   "metadata": {},
   "outputs": [],
   "source": [
    "# Redo hand if three people enter the flop.\n",
    "\n",
    "# Opponents = 6 max and 100 man tournament; 10 paid:   Just assume 9 max is 6 max table\n",
    "    # 30, 20, 12, 9.5, 8, 6, 5, 4, 3, 2.5 is the payout\n",
    "\n",
    "# ICM calculated by % of chip pool you have looking for first place chances.\n",
    "    # Then the ICM is calculated by assuming you do not win first; do the same with the remaining players.\n",
    "    # Assuming other combinations got first.\n",
    "\n",
    "# ICM isn't calculated in small blind sizes until there are 12 opponents left\n",
    "    # Therefore this program will ignore ICM completely.\n",
    "\n",
    "\n",
    "\n",
    "# Probably won't use this one function:\n",
    "def get_average_profit_from_playing_hands(hands):\n",
    "    profit = 0\n",
    "    for i in range(hands):\n",
    "        profit_from_playing_hand = get_profit_from_playing_hand()\n",
    "        profit += profit_from_playing_hand\n",
    "    avg_profit = profit / hands\n",
    "    return avg_profit\n",
    "\n",
    "\n",
    "def get_profit_from_playing_hand(strategies):\n",
    "    hands, board, range1, range2 = play_preflop()\n",
    "    hands, deck, my_winnings_given_postflop, board = play_flop(strategies, my_position_id, opponent_position_id, hands, deck)\n",
    "    if my_winnings_given_postflop != None:\n",
    "        return my_winnings_given_postflop\n",
    "    hands, deck, my_winnings_given_postflop, board = play_turn(strategies, my_position_id, opponent_position_id, hands, deck)\n",
    "    if my_winnings_given_postflop != None:\n",
    "        return my_winnings_given_postflop\n",
    "    my_winnings_given_postflop = play_river(strategies, my_position_id, opponent_position_id, hands, deck)\n",
    "    return my_winnings_given_postflop"
   ]
  },
  {
   "cell_type": "code",
   "execution_count": 15,
   "metadata": {},
   "outputs": [
    {
     "data": {
      "text/plain": [
       "([[[10, 3], [13, 3], [13, 10], True], [[14, 1], [4, 1], [14, 4], True]],\n",
       " [[6, 3], [11, 3], [4, 2], [5, 4], [3, 2]],\n",
       " 3,\n",
       " 8)"
      ]
     },
     "execution_count": 15,
     "metadata": {},
     "output_type": "execute_result"
    }
   ],
   "source": [
    "# For show: (Invalid means there is no strategy, you have to solve it yourself.)\n",
    "{1: 'lj rfi', 2: 'hj rfi', 3: 'co rfi', 4: 'bn rfi', 5: 'sb rfi',\n",
    " 6: 'bb vs lj call', 7: 'bb vs hj call', 8: 'bb vs co call',\n",
    " 9: 'bb vs bn call', 10: 'bb vs sb call', 11: 'other calls',\n",
    " 12: 'invalid'}\n",
    "\n",
    "# Invested based on player\n",
    "{1: 2.5, 2: 2.5, 3: 2.5, 4: 2.5, 5: 2.5,\n",
    " 6: 1.5, 7: 1.5, 8: 1.5, 9: 1.5, 10: 1.5, 11: 2.5, 12: 0}\n",
    "\n",
    "# Pot size based on player 2\n",
    "{6: 1.5, 7: 1.5, 8: 1.5, 9: 1.5, 10: 1.5, 11: 2.5, 12: 0}\n",
    "\n",
    "strategies = get_randomized_strategies()\n",
    "# avg_profit = get_average_profit_from_playing_hands(hands=100)\n",
    "hands, board, range1, range2 = play_preflop()\n",
    "hands, board, range1, range2\n"
   ]
  },
  {
   "cell_type": "code",
   "execution_count": 16,
   "metadata": {},
   "outputs": [
    {
     "data": {
      "text/plain": [
       "([[[10, 3], [13, 3], [13, 10], True], [[14, 1], [4, 1], [14, 4], True]],\n",
       " [[6, 3], [11, 3], [4, 2]],\n",
       " 3,\n",
       " 8)"
      ]
     },
     "execution_count": 16,
     "metadata": {},
     "output_type": "execute_result"
    }
   ],
   "source": [
    "hands, board[0:3], range1, range2\n"
   ]
  },
  {
   "cell_type": "code",
   "execution_count": 44,
   "metadata": {},
   "outputs": [
    {
     "data": {
      "text/plain": [
       "(False,\n",
       " [[12, 4], [11, 3], [12, 11], False],\n",
       " [[7, 1], [7, 4], [7, 7], False],\n",
       " [[[7, 1], [7, 4], [7, 7], False], [[12, 4], [11, 3], [12, 11], False]])"
      ]
     },
     "execution_count": 44,
     "metadata": {},
     "output_type": "execute_result"
    }
   ],
   "source": [
    "bluff_code_11_hands = [13,10],[13,9],[13,8]\n",
    "bluff_code_12_hand = [13, 11]\n",
    "bluff_code_14_hand = [13, 12]\n",
    "\n",
    "\n",
    "# def play_flop(strategies, range1, range2, hands, deck):\n",
    "hands, board, range1, range2 = play_preflop()\n",
    "player_strategy = strategies[0]\n",
    "opponent_strategy = random.choices(strategies[1:])[0]\n",
    "\n",
    "player_hand_is_cat1 = False\n",
    "player_hand_is_cat2 = False\n",
    "player_hand_is_cat3 = False\n",
    "player_hand_is_cat4 = False\n",
    "\n",
    "opponent_hand_is_cat1 = False\n",
    "opponent_hand_is_cat2 = False\n",
    "opponent_hand_is_cat3 = False\n",
    "opponent_hand_is_cat4 = False\n",
    "\n",
    "player_is_range1 = random.choices([True, False])[0]\n",
    "\n",
    "player_hand = hands[0] if player_is_range1 else hands[1]\n",
    "opponent_hand = hands[1] if player_is_range1 else hands[0]\n",
    "\n",
    "# Sorted board\n",
    "current_board = board[0:3] # Change this for different streets !!\n",
    "sorted_board = sorted([x for x, y in current_board])\n",
    "sorted_board_unique = sorted(list(set(sorted_board)))\n",
    "\n",
    "# The hand combined (ignoring suit)\n",
    "player_combined_hand = sorted(player_hand[2] + [x for x,y in current_board])\n",
    "player_combined_hand_unique = sorted(list(set(player_combined_hand)))\n",
    "x = player_hand[2]\n",
    "\n",
    "# player hand is cat1\n",
    "temp = sorted([y for x,y in player_hand[0:2]] + [y for x,y in current_board])\n",
    "player_has_flush = temp.count(1) == 5 or temp.count(2) >= 5 or temp.count(3) >= 5 or temp.count(4) >= 5\n",
    "player_has_straight = is_straight(player_combined_hand)\n",
    "player_has_two_pair_or_better_with_pairs = len(set(player_combined_hand)) <= 3\n",
    "player_has_overpair = x[0] == x[1] and x[0] > sorted_board[2]\n",
    "player_has_tp_j_plus_kicker = (x[0] == sorted_board[2] and x[1] >= 11) or (x[1] == sorted_board[2] and x[0] >= 11)\n",
    "player_hand_is_cat1 = player_has_flush or player_has_straight or player_has_two_pair_or_better_with_pairs or player_has_overpair or player_has_tp_j_plus_kicker\n",
    "\n",
    "# player hand is cat2\n",
    "player_has_a_decent_pocket_pair = x[0] == x[1] and x[0] > sorted_board[1]\n",
    "player_has_a_decent_pair = x[0] in sorted_board_unique[-2:] or x[1] in sorted_board_unique[-2:]\n",
    "player_has_aj_high = x[0] == 14 and x[1] >= 11\n",
    "player_hand_is_cat2 = not player_hand_is_cat1 and (player_has_a_decent_pocket_pair or player_has_a_decent_pair or player_has_aj_high)\n",
    "\n",
    "# player hand is cat3 (Even checking river as a way to balance the bluffs on the river)\n",
    "board_suits = [y for x,y in current_board]\n",
    "all_suits = sorted([y for x,y in player_hand[0:2]] + board_suits)\n",
    "player_has_bluff_code1 = is_flushdraw(all_suits) and not is_flushdraw(board_suits)\n",
    "player_has_bluff_code2 = is_oesd(player_combined_hand) and not is_oesd(sorted_board)\n",
    "player_has_bluff_code3 = is_gutshot(player_combined_hand) and not is_oesd(sorted_board)\n",
    "if len(sorted_board) == 3:\n",
    "    player_has_bluff_code4 = x[0] != 14 and x[0] not in sorted_board and x[1] not in sorted_board and ((x[0] == sorted_board[0] + 1 and x[1] == sorted_board[0] - 1) or (x[0] == sorted_board[1] + 1 and x[1] == sorted_board[1] - 1) or (x[0] == sorted_board[2] + 1 and x[1] == sorted_board[2] - 1) or (x[0] == sorted_board[0] + 2 and x[1] == sorted_board[0] + 1) or (x[0] == sorted_board[1] + 2 and x[1] == sorted_board[1] + 1) or (x[0] == sorted_board[2] + 2 and x[1] == sorted_board[2] + 1))\n",
    "elif len(sorted_board) == 4:\n",
    "    player_has_bluff_code4 = x[0] != 14 and x[0] not in sorted_board and x[1] not in sorted_board and ((x[0] == sorted_board[0] + 1 and x[1] == sorted_board[0] - 1) or (x[0] == sorted_board[1] + 1 and x[1] == sorted_board[1] - 1) or (x[0] == sorted_board[2] + 1 and x[1] == sorted_board[2] - 1) or (x[0] == sorted_board[3] + 1 and x[1] == sorted_board[3] - 1) or (x[0] == sorted_board[0] + 2 and x[1] == sorted_board[0] + 1) or (x[0] == sorted_board[1] + 2 and x[1] == sorted_board[1] + 1) or (x[0] == sorted_board[2] + 2 and x[1] == sorted_board[2] + 1) or (x[0] == sorted_board[3] + 2 and x[1] == sorted_board[3] + 1))\n",
    "else:\n",
    "    player_has_bluff_code4 = x[0] != 14 and x[0] not in sorted_board and x[1] not in sorted_board and ((x[0] == sorted_board[0] + 1 and x[1] == sorted_board[0] - 1) or (x[0] == sorted_board[1] + 1 and x[1] == sorted_board[1] - 1) or (x[0] == sorted_board[2] + 1 and x[1] == sorted_board[2] - 1) or (x[0] == sorted_board[3] + 1 and x[1] == sorted_board[3] - 1) or (x[0] == sorted_board[4] + 1 and x[1] == sorted_board[4] - 1) or (x[0] == sorted_board[0] + 2 and x[1] == sorted_board[0] + 1) or (x[0] == sorted_board[1] + 2 and x[1] == sorted_board[1] + 1) or (x[0] == sorted_board[2] + 2 and x[1] == sorted_board[2] + 1) or (x[0] == sorted_board[3] + 2 and x[1] == sorted_board[3] + 1) or (x[0] == sorted_board[4] + 2 and x[1] == sorted_board[4] + 1))\n",
    "if len(sorted_board) == 3:\n",
    "    player_has_bluff_code5_6 = x[0] != 14 and x[0] not in sorted_board and x[1] not in sorted_board and ((x[0] == sorted_board[0] - 1 and x[1] == sorted_board[0] - 2) or (x[0] == sorted_board[1] - 1 and x[1] == sorted_board[1] - 2) or (x[0] == sorted_board[2] - 1 and x[1] == sorted_board[2] - 2))\n",
    "elif len(sorted_board) == 4:\n",
    "    player_has_bluff_code5_6 = x[0] != 14 and x[0] not in sorted_board and x[1] not in sorted_board and ((x[0] == sorted_board[0] - 1 and x[1] == sorted_board[0] - 2) or (x[0] == sorted_board[1] - 1 and x[1] == sorted_board[1] - 2) or (x[0] == sorted_board[2] - 1 and x[1] == sorted_board[2] - 2) or (x[0] == sorted_board[3] - 1 and x[1] == sorted_board[3] - 2))\n",
    "else:\n",
    "    player_has_bluff_code5_6 = x[0] != 14 and x[0] not in sorted_board and x[1] not in sorted_board and ((x[0] == sorted_board[0] - 1 and x[1] == sorted_board[0] - 2) or (x[0] == sorted_board[1] - 1 and x[1] == sorted_board[1] - 2) or (x[0] == sorted_board[2] - 1 and x[1] == sorted_board[2] - 2) or (x[0] == sorted_board[3] - 1 and x[1] == sorted_board[3] - 2) or (x[0] == sorted_board[4] - 1 and x[1] == sorted_board[4] - 2))\n",
    "if len(sorted_board) == 3:\n",
    "    player_has_bluff_code7 = x[0] not in sorted_board and x[1] not in sorted_board and player_combined_hand[-1] - player_combined_hand[0] <= 7 and is_bdfd(all_suits) and not is_bdfd(board_suits)\n",
    "else:\n",
    "    player_has_bluff_code7 = False\n",
    "player_has_bluff_code8 = is_bdfd(all_suits) and not is_bdfd(board_suits) and x[0] <= 12\n",
    "if len(sorted_board) == 3:\n",
    "    player_has_bluff_code9 = x[1] > sorted_board_unique[-1] and player_combined_hand_unique[-3] - player_combined_hand_unique[-1] <= 3\n",
    "else:\n",
    "    player_has_bluff_code9 = False\n",
    "player_has_bluff_code10 = is_bdfd(all_suits) and not is_bdfd(board_suits) and x[0] > 12\n",
    "player_has_bluff_code11 = player_hand[2] in bluff_code_11_hands\n",
    "player_has_bluff_code12 = player_hand[2] == bluff_code_12_hand\n",
    "player_has_bluff_code13 = x[0] == x[1] and x[0] < sorted_board[0]\n",
    "player_has_bluff_code14 = player_hand[2] == bluff_code_14_hand\n",
    "player_has_bluff_code15 = x[0] == x[1] and x[0] < sorted_board[-2]\n",
    "player_has_bluff_code16 = not player_hand_is_cat1 and not player_hand_is_cat2\n",
    "player_has_bluff_code17 = player_has_aj_high\n",
    "player_has_bluff_code18 = x[0] == sorted_board[-3] or x[1] == sorted_board[-3]\n",
    "player_has_bluff_code19 = x[0] == x[1] and x[0] < sorted_board[-1]\n",
    "player_has_bluff_code20 = x[0] == sorted_board_unique[-2] or x[1] == sorted_board_unique[-2]\n",
    "player_has_bluff_code21 = x[0] == sorted_board_unique[-1] or x[1] == sorted_board_unique[-1]\n",
    "\n",
    "# Find situation\n",
    "\n",
    "# Find strategy in that situation (Number of bets so far, which position I am)\n",
    "\n",
    "# Check those codes less than that.  look for one true (probably should be 21 length array; append all 21)\n",
    "\n",
    "# If so then it is cat 3\n",
    "\n",
    "# Then if it is cat3 and is 17, 18, 19, 20, or 21 then remove it from cat2; so redefine if cat2 if specifically the cat17-21 is true and strategy is 17-21\n",
    "\n",
    "# That should be just about it; should work for all streets\n",
    "\n",
    "# Lastly copy/paste code for the opponent logic; perhaps in the order of action like make the player who goes first check first.\n",
    "\n",
    "\n",
    "\n",
    "\n",
    "player_is_range1, player_hand, opponent_hand, hands\n",
    "\n",
    "\n",
    "\n",
    "\n"
   ]
  },
  {
   "cell_type": "code",
   "execution_count": 59,
   "metadata": {},
   "outputs": [
    {
     "data": {
      "text/plain": [
       "[3, 10, 12, 14]"
      ]
     },
     "execution_count": 59,
     "metadata": {},
     "output_type": "execute_result"
    }
   ],
   "source": []
  },
  {
   "cell_type": "code",
   "execution_count": 46,
   "metadata": {},
   "outputs": [
    {
     "data": {
      "text/plain": [
       "[12, 11]"
      ]
     },
     "execution_count": 46,
     "metadata": {},
     "output_type": "execute_result"
    }
   ],
   "source": []
  },
  {
   "cell_type": "code",
   "execution_count": 42,
   "metadata": {},
   "outputs": [
    {
     "data": {
      "text/plain": [
       "[4, 6, 8, 10, 14]"
      ]
     },
     "execution_count": 42,
     "metadata": {},
     "output_type": "execute_result"
    }
   ],
   "source": [
    "player_combined_hand_unique"
   ]
  },
  {
   "cell_type": "code",
   "execution_count": 43,
   "metadata": {},
   "outputs": [
    {
     "data": {
      "text/plain": [
       "3"
      ]
     },
     "execution_count": 43,
     "metadata": {},
     "output_type": "execute_result"
    }
   ],
   "source": [
    "\n",
    "13-10"
   ]
  },
  {
   "cell_type": "code",
   "execution_count": null,
   "metadata": {},
   "outputs": [],
   "source": []
  },
  {
   "cell_type": "code",
   "execution_count": 21,
   "metadata": {},
   "outputs": [
    {
     "data": {
      "text/plain": [
       "[2, 3, 13]"
      ]
     },
     "execution_count": 21,
     "metadata": {},
     "output_type": "execute_result"
    }
   ],
   "source": [
    "sorted_board"
   ]
  },
  {
   "cell_type": "code",
   "execution_count": 18,
   "metadata": {},
   "outputs": [
    {
     "data": {
      "text/plain": [
       "False"
      ]
     },
     "execution_count": 18,
     "metadata": {},
     "output_type": "execute_result"
    }
   ],
   "source": [
    "player_has_bluff_code5_6"
   ]
  },
  {
   "cell_type": "code",
   "execution_count": 5,
   "metadata": {},
   "outputs": [
    {
     "data": {
      "text/plain": [
       "(True, False)"
      ]
     },
     "execution_count": 5,
     "metadata": {},
     "output_type": "execute_result"
    }
   ],
   "source": [
    "player_hand_is_cat1, player_hand_is_cat2"
   ]
  },
  {
   "cell_type": "code",
   "execution_count": 6,
   "metadata": {},
   "outputs": [
    {
     "data": {
      "text/plain": [
       "[[13, 4], [12, 4], [13, 12], True]"
      ]
     },
     "execution_count": 6,
     "metadata": {},
     "output_type": "execute_result"
    }
   ],
   "source": [
    "player_hand"
   ]
  },
  {
   "cell_type": "code",
   "execution_count": 7,
   "metadata": {},
   "outputs": [
    {
     "data": {
      "text/plain": [
       "[[13, 3], [7, 1], [10, 1], [12, 3], [2, 3]]"
      ]
     },
     "execution_count": 7,
     "metadata": {},
     "output_type": "execute_result"
    }
   ],
   "source": [
    "board"
   ]
  },
  {
   "cell_type": "code",
   "execution_count": null,
   "metadata": {},
   "outputs": [],
   "source": []
  },
  {
   "cell_type": "code",
   "execution_count": null,
   "metadata": {},
   "outputs": [],
   "source": []
  },
  {
   "cell_type": "code",
   "execution_count": null,
   "metadata": {},
   "outputs": [],
   "source": []
  },
  {
   "cell_type": "code",
   "execution_count": null,
   "metadata": {},
   "outputs": [],
   "source": []
  },
  {
   "cell_type": "code",
   "execution_count": null,
   "metadata": {},
   "outputs": [],
   "source": []
  },
  {
   "cell_type": "code",
   "execution_count": null,
   "metadata": {},
   "outputs": [],
   "source": [
    "from collections import defaultdict\n",
    "temp1 = defaultdict(int)\n",
    "temp2 = defaultdict(int)\n",
    "for i in range(10000):\n",
    "    hands, board, range1, range2 = play_preflop()\n",
    "    temp1[range1] += 1\n",
    "    temp2[range2] += 1\n",
    "temp1, temp2"
   ]
  },
  {
   "cell_type": "code",
   "execution_count": null,
   "metadata": {},
   "outputs": [],
   "source": []
  },
  {
   "cell_type": "code",
   "execution_count": null,
   "metadata": {},
   "outputs": [],
   "source": []
  },
  {
   "cell_type": "code",
   "execution_count": 13,
   "metadata": {},
   "outputs": [
    {
     "data": {
      "text/plain": [
       "([[[12, 1], [9, 1], [12, 9], True], [[9, 4], [14, 3], [14, 9], False]],\n",
       " [[9, 2], [11, 4], [5, 1], [7, 1], [2, 2]],\n",
       " 3,\n",
       " 8)"
      ]
     },
     "execution_count": 13,
     "metadata": {},
     "output_type": "execute_result"
    }
   ],
   "source": [
    "hands_remaining, board, range1, range2\n"
   ]
  },
  {
   "cell_type": "code",
   "execution_count": null,
   "metadata": {},
   "outputs": [],
   "source": []
  },
  {
   "cell_type": "code",
   "execution_count": null,
   "metadata": {},
   "outputs": [],
   "source": []
  }
 ],
 "metadata": {
  "kernelspec": {
   "display_name": "commons",
   "language": "python",
   "name": "commons"
  },
  "language_info": {
   "codemirror_mode": {
    "name": "ipython",
    "version": 3
   },
   "file_extension": ".py",
   "mimetype": "text/x-python",
   "name": "python",
   "nbconvert_exporter": "python",
   "pygments_lexer": "ipython3",
   "version": "3.8.6"
  },
  "toc": {
   "base_numbering": 1,
   "nav_menu": {},
   "number_sections": true,
   "sideBar": true,
   "skip_h1_title": false,
   "title_cell": "Table of Contents",
   "title_sidebar": "Contents",
   "toc_cell": false,
   "toc_position": {},
   "toc_section_display": true,
   "toc_window_display": false
  }
 },
 "nbformat": 4,
 "nbformat_minor": 4
}
